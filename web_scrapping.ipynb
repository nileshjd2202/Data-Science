{
  "nbformat": 4,
  "nbformat_minor": 0,
  "metadata": {
    "colab": {
      "name": "web_scrapping.ipynb",
      "provenance": [],
      "authorship_tag": "ABX9TyN1gpeQArwEVg9wI7A2Aklp",
      "include_colab_link": true
    },
    "kernelspec": {
      "name": "python3",
      "display_name": "Python 3"
    },
    "language_info": {
      "name": "python"
    }
  },
  "cells": [
    {
      "cell_type": "markdown",
      "metadata": {
        "id": "view-in-github",
        "colab_type": "text"
      },
      "source": [
        "<a href=\"https://colab.research.google.com/github/nileshjd2202/Data-Science/blob/main/web_scrapping.ipynb\" target=\"_parent\"><img src=\"https://colab.research.google.com/assets/colab-badge.svg\" alt=\"Open In Colab\"/></a>"
      ]
    },
    {
      "cell_type": "code",
      "execution_count": null,
      "metadata": {
        "id": "pWT8E5bMqy-b"
      },
      "outputs": [],
      "source": [
        "from bs4 import BeautifulSoup"
      ]
    },
    {
      "cell_type": "code",
      "source": [
        "import requests"
      ],
      "metadata": {
        "id": "bQrLkH3QIHmU"
      },
      "execution_count": null,
      "outputs": []
    },
    {
      "cell_type": "code",
      "source": [
        "flipkart = requests.get(\"https://www.flipkart.com/search?q=iphone\")"
      ],
      "metadata": {
        "id": "t9-yBcXIIOo0"
      },
      "execution_count": null,
      "outputs": []
    },
    {
      "cell_type": "code",
      "source": [
        "print(flipkart.content)"
      ],
      "metadata": {
        "id": "BHCYd-O3J3vm"
      },
      "execution_count": null,
      "outputs": []
    },
    {
      "cell_type": "code",
      "source": [
        "type(flipkart.content)"
      ],
      "metadata": {
        "id": "3UYRi3aHJ88b"
      },
      "execution_count": null,
      "outputs": []
    },
    {
      "cell_type": "code",
      "source": [
        "flipkart.text"
      ],
      "metadata": {
        "id": "1shgy4ZrKLR8"
      },
      "execution_count": null,
      "outputs": []
    },
    {
      "cell_type": "code",
      "source": [
        "type(flipkart.text)"
      ],
      "metadata": {
        "id": "TFPdfExRKU6C"
      },
      "execution_count": null,
      "outputs": []
    },
    {
      "cell_type": "code",
      "source": [
        "soup = BeautifulSoup(flipkart.text, \"html.parser\")"
      ],
      "metadata": {
        "id": "NCzwHJCUKZoQ"
      },
      "execution_count": null,
      "outputs": []
    },
    {
      "cell_type": "code",
      "source": [
        "print(soup.prettify)"
      ],
      "metadata": {
        "id": "ByteD2OtKqIT"
      },
      "execution_count": null,
      "outputs": []
    },
    {
      "cell_type": "code",
      "source": [
        "print(soup.title.text)"
      ],
      "metadata": {
        "id": "WmPcc1fZKutK"
      },
      "execution_count": null,
      "outputs": []
    },
    {
      "cell_type": "code",
      "source": [
        "mobile = soup.find(\"div\", class_=\"_2kHMtA\")"
      ],
      "metadata": {
        "id": "vAul5D3LK8Im"
      },
      "execution_count": null,
      "outputs": []
    },
    {
      "cell_type": "code",
      "source": [
        "len(mobile)"
      ],
      "metadata": {
        "id": "poNu6WK_LojT"
      },
      "execution_count": null,
      "outputs": []
    },
    {
      "cell_type": "code",
      "source": [
        "mobiles = soup.find_all(\"div\", class_=\"_2kHMtA\")"
      ],
      "metadata": {
        "id": "IGX2BRH3LqGu"
      },
      "execution_count": null,
      "outputs": []
    },
    {
      "cell_type": "code",
      "source": [
        "len(mobiles)"
      ],
      "metadata": {
        "id": "l0zxdoJ0MRsm"
      },
      "execution_count": null,
      "outputs": []
    },
    {
      "cell_type": "code",
      "source": [
        "name = mobile.find(\"div\", class_=\"_4rR01T\")"
      ],
      "metadata": {
        "id": "vJ4LbwV9MTfB"
      },
      "execution_count": null,
      "outputs": []
    },
    {
      "cell_type": "code",
      "source": [
        "name.text"
      ],
      "metadata": {
        "id": "5tMlKBa-Mn-q"
      },
      "execution_count": null,
      "outputs": []
    },
    {
      "cell_type": "code",
      "source": [
        "name = name.text.split(\",\")"
      ],
      "metadata": {
        "id": "cdrkrvt7PvAC"
      },
      "execution_count": null,
      "outputs": []
    },
    {
      "cell_type": "code",
      "source": [
        "name = name[0]+\")\""
      ],
      "metadata": {
        "id": "5dNG08nAPvfQ"
      },
      "execution_count": null,
      "outputs": []
    },
    {
      "cell_type": "code",
      "source": [
        "name"
      ],
      "metadata": {
        "id": "knc2kWIrQrgg"
      },
      "execution_count": null,
      "outputs": []
    },
    {
      "cell_type": "code",
      "source": [
        "price = mobile.find(\"div\", class_=\"_30jeq3 _1_WHN1\")"
      ],
      "metadata": {
        "id": "3CgCbJscNTm-"
      },
      "execution_count": null,
      "outputs": []
    },
    {
      "cell_type": "code",
      "source": [
        "len(price)"
      ],
      "metadata": {
        "id": "3iqpLmsvOoWK"
      },
      "execution_count": null,
      "outputs": []
    },
    {
      "cell_type": "code",
      "source": [
        "price.text"
      ],
      "metadata": {
        "id": "fNd6Y-e7OrDF"
      },
      "execution_count": null,
      "outputs": []
    },
    {
      "cell_type": "code",
      "source": [
        "rom = mobile.find(\"li\", class_=\"rgWa7D\")"
      ],
      "metadata": {
        "id": "u6tHyynAOuJO"
      },
      "execution_count": null,
      "outputs": []
    },
    {
      "cell_type": "code",
      "source": [
        "rom.text"
      ],
      "metadata": {
        "id": "MGZtc1blPPKI"
      },
      "execution_count": null,
      "outputs": []
    },
    {
      "cell_type": "code",
      "source": [
        "rom.text.split(\" ROM\")[0]"
      ],
      "metadata": {
        "id": "9PqlH32gR9Ui"
      },
      "execution_count": null,
      "outputs": []
    },
    {
      "cell_type": "code",
      "source": [
        "names = []\n",
        "prices = []\n",
        "roms = []\n",
        "\n",
        "for mobile in mobiles:\n",
        "  name = mobile.find(\"div\", class_=\"_4rR01T\").text.split(\",\")[0]+\")\"\n",
        "  price = mobile.find(\"div\", class_=\"_30jeq3 _1_WHN1\").text\n",
        "  rom = mobile.find(\"li\", class_=\"rgWa7D\").text.split(\" ROM\")[0]\n",
        "\n",
        "  names.append(name)\n",
        "  prices.append(price)\n",
        "  roms.append(rom)"
      ],
      "metadata": {
        "id": "0WNAdotAPQTO"
      },
      "execution_count": null,
      "outputs": []
    },
    {
      "cell_type": "code",
      "source": [
        "names"
      ],
      "metadata": {
        "id": "EECeS__SSfFz"
      },
      "execution_count": null,
      "outputs": []
    },
    {
      "cell_type": "code",
      "source": [
        "dict1 = {\"Models\":names, \"Price\":prices, \"ROM\": roms}"
      ],
      "metadata": {
        "id": "7TtobAGuShG7"
      },
      "execution_count": null,
      "outputs": []
    },
    {
      "cell_type": "code",
      "source": [
        "import pandas as pd"
      ],
      "metadata": {
        "id": "4kRhXG7TS4_e"
      },
      "execution_count": null,
      "outputs": []
    },
    {
      "cell_type": "code",
      "source": [
        "df = pd.DataFrame(dict1)"
      ],
      "metadata": {
        "id": "lKZJUNGyS-Xs"
      },
      "execution_count": null,
      "outputs": []
    },
    {
      "cell_type": "code",
      "source": [
        "df"
      ],
      "metadata": {
        "colab": {
          "base_uri": "https://localhost:8080/",
          "height": 802
        },
        "id": "XNiAq7Y3TEeQ",
        "outputId": "9c8d3e20-d867-4df1-c431-27699afa7851"
      },
      "execution_count": null,
      "outputs": [
        {
          "output_type": "execute_result",
          "data": {
            "text/html": [
              "\n",
              "  <div id=\"df-9f0ce2c0-b101-45b2-837a-8f50890181f2\">\n",
              "    <div class=\"colab-df-container\">\n",
              "      <div>\n",
              "<style scoped>\n",
              "    .dataframe tbody tr th:only-of-type {\n",
              "        vertical-align: middle;\n",
              "    }\n",
              "\n",
              "    .dataframe tbody tr th {\n",
              "        vertical-align: top;\n",
              "    }\n",
              "\n",
              "    .dataframe thead th {\n",
              "        text-align: right;\n",
              "    }\n",
              "</style>\n",
              "<table border=\"1\" class=\"dataframe\">\n",
              "  <thead>\n",
              "    <tr style=\"text-align: right;\">\n",
              "      <th></th>\n",
              "      <th>Models</th>\n",
              "      <th>Price</th>\n",
              "      <th>ROM</th>\n",
              "    </tr>\n",
              "  </thead>\n",
              "  <tbody>\n",
              "    <tr>\n",
              "      <th>0</th>\n",
              "      <td>APPLE iPhone SE (Black)</td>\n",
              "      <td>₹30,099</td>\n",
              "      <td>64 GB</td>\n",
              "    </tr>\n",
              "    <tr>\n",
              "      <th>1</th>\n",
              "      <td>APPLE iPhone SE (White)</td>\n",
              "      <td>₹30,099</td>\n",
              "      <td>64 GB</td>\n",
              "    </tr>\n",
              "    <tr>\n",
              "      <th>2</th>\n",
              "      <td>APPLE iPhone SE (Black)</td>\n",
              "      <td>₹35,099</td>\n",
              "      <td>128 GB</td>\n",
              "    </tr>\n",
              "    <tr>\n",
              "      <th>3</th>\n",
              "      <td>APPLE iPhone 12 Mini (Black)</td>\n",
              "      <td>₹49,999</td>\n",
              "      <td>64 GB</td>\n",
              "    </tr>\n",
              "    <tr>\n",
              "      <th>4</th>\n",
              "      <td>APPLE iPhone SE (Red)</td>\n",
              "      <td>₹30,099</td>\n",
              "      <td>64 GB</td>\n",
              "    </tr>\n",
              "    <tr>\n",
              "      <th>5</th>\n",
              "      <td>APPLE iPhone SE (White)</td>\n",
              "      <td>₹35,099</td>\n",
              "      <td>128 GB</td>\n",
              "    </tr>\n",
              "    <tr>\n",
              "      <th>6</th>\n",
              "      <td>APPLE iPhone SE (Red)</td>\n",
              "      <td>₹35,099</td>\n",
              "      <td>128 GB</td>\n",
              "    </tr>\n",
              "    <tr>\n",
              "      <th>7</th>\n",
              "      <td>APPLE iPhone 12 (Black)</td>\n",
              "      <td>₹60,299</td>\n",
              "      <td>64 GB</td>\n",
              "    </tr>\n",
              "    <tr>\n",
              "      <th>8</th>\n",
              "      <td>APPLE iPhone 12 Mini (White)</td>\n",
              "      <td>₹49,999</td>\n",
              "      <td>64 GB</td>\n",
              "    </tr>\n",
              "    <tr>\n",
              "      <th>9</th>\n",
              "      <td>APPLE iPhone 12 Mini (Blue)</td>\n",
              "      <td>₹49,999</td>\n",
              "      <td>64 GB</td>\n",
              "    </tr>\n",
              "    <tr>\n",
              "      <th>10</th>\n",
              "      <td>APPLE iPhone 12 (Blue)</td>\n",
              "      <td>₹64,999</td>\n",
              "      <td>128 GB</td>\n",
              "    </tr>\n",
              "    <tr>\n",
              "      <th>11</th>\n",
              "      <td>Apple iPhone XR ((PRODUCT)RED)</td>\n",
              "      <td>₹39,999</td>\n",
              "      <td>64 GB</td>\n",
              "    </tr>\n",
              "    <tr>\n",
              "      <th>12</th>\n",
              "      <td>APPLE iPhone 12 Mini (Green)</td>\n",
              "      <td>₹49,999</td>\n",
              "      <td>64 GB</td>\n",
              "    </tr>\n",
              "    <tr>\n",
              "      <th>13</th>\n",
              "      <td>APPLE iPhone 13 (Pink)</td>\n",
              "      <td>₹74,900</td>\n",
              "      <td>128 GB</td>\n",
              "    </tr>\n",
              "    <tr>\n",
              "      <th>14</th>\n",
              "      <td>APPLE iPhone 13 (Starlight)</td>\n",
              "      <td>₹74,900</td>\n",
              "      <td>128 GB</td>\n",
              "    </tr>\n",
              "    <tr>\n",
              "      <th>15</th>\n",
              "      <td>APPLE iPhone 13 (Midnight)</td>\n",
              "      <td>₹74,900</td>\n",
              "      <td>128 GB</td>\n",
              "    </tr>\n",
              "    <tr>\n",
              "      <th>16</th>\n",
              "      <td>APPLE iPhone 11 (Green)</td>\n",
              "      <td>₹49,900</td>\n",
              "      <td>64 GB</td>\n",
              "    </tr>\n",
              "    <tr>\n",
              "      <th>17</th>\n",
              "      <td>APPLE iPhone 13 (Blue)</td>\n",
              "      <td>₹74,900</td>\n",
              "      <td>128 GB</td>\n",
              "    </tr>\n",
              "    <tr>\n",
              "      <th>18</th>\n",
              "      <td>APPLE iPhone 13 ((PRODUCT)RED)</td>\n",
              "      <td>₹84,900</td>\n",
              "      <td>256 GB</td>\n",
              "    </tr>\n",
              "    <tr>\n",
              "      <th>19</th>\n",
              "      <td>APPLE iPhone 11 (Black)</td>\n",
              "      <td>₹49,900</td>\n",
              "      <td>64 GB</td>\n",
              "    </tr>\n",
              "    <tr>\n",
              "      <th>20</th>\n",
              "      <td>APPLE iPhone XR ((PRODUCT)RED)</td>\n",
              "      <td>₹39,999</td>\n",
              "      <td>64 GB</td>\n",
              "    </tr>\n",
              "    <tr>\n",
              "      <th>21</th>\n",
              "      <td>APPLE iPhone 13 Mini ((PRODUCT)RED)</td>\n",
              "      <td>₹69,900</td>\n",
              "      <td>128 GB</td>\n",
              "    </tr>\n",
              "    <tr>\n",
              "      <th>22</th>\n",
              "      <td>APPLE iPhone 13 Mini (Pink)</td>\n",
              "      <td>₹69,900</td>\n",
              "      <td>128 GB</td>\n",
              "    </tr>\n",
              "    <tr>\n",
              "      <th>23</th>\n",
              "      <td>APPLE iPhone 13 (Blue)</td>\n",
              "      <td>₹84,900</td>\n",
              "      <td>256 GB</td>\n",
              "    </tr>\n",
              "  </tbody>\n",
              "</table>\n",
              "</div>\n",
              "      <button class=\"colab-df-convert\" onclick=\"convertToInteractive('df-9f0ce2c0-b101-45b2-837a-8f50890181f2')\"\n",
              "              title=\"Convert this dataframe to an interactive table.\"\n",
              "              style=\"display:none;\">\n",
              "        \n",
              "  <svg xmlns=\"http://www.w3.org/2000/svg\" height=\"24px\"viewBox=\"0 0 24 24\"\n",
              "       width=\"24px\">\n",
              "    <path d=\"M0 0h24v24H0V0z\" fill=\"none\"/>\n",
              "    <path d=\"M18.56 5.44l.94 2.06.94-2.06 2.06-.94-2.06-.94-.94-2.06-.94 2.06-2.06.94zm-11 1L8.5 8.5l.94-2.06 2.06-.94-2.06-.94L8.5 2.5l-.94 2.06-2.06.94zm10 10l.94 2.06.94-2.06 2.06-.94-2.06-.94-.94-2.06-.94 2.06-2.06.94z\"/><path d=\"M17.41 7.96l-1.37-1.37c-.4-.4-.92-.59-1.43-.59-.52 0-1.04.2-1.43.59L10.3 9.45l-7.72 7.72c-.78.78-.78 2.05 0 2.83L4 21.41c.39.39.9.59 1.41.59.51 0 1.02-.2 1.41-.59l7.78-7.78 2.81-2.81c.8-.78.8-2.07 0-2.86zM5.41 20L4 18.59l7.72-7.72 1.47 1.35L5.41 20z\"/>\n",
              "  </svg>\n",
              "      </button>\n",
              "      \n",
              "  <style>\n",
              "    .colab-df-container {\n",
              "      display:flex;\n",
              "      flex-wrap:wrap;\n",
              "      gap: 12px;\n",
              "    }\n",
              "\n",
              "    .colab-df-convert {\n",
              "      background-color: #E8F0FE;\n",
              "      border: none;\n",
              "      border-radius: 50%;\n",
              "      cursor: pointer;\n",
              "      display: none;\n",
              "      fill: #1967D2;\n",
              "      height: 32px;\n",
              "      padding: 0 0 0 0;\n",
              "      width: 32px;\n",
              "    }\n",
              "\n",
              "    .colab-df-convert:hover {\n",
              "      background-color: #E2EBFA;\n",
              "      box-shadow: 0px 1px 2px rgba(60, 64, 67, 0.3), 0px 1px 3px 1px rgba(60, 64, 67, 0.15);\n",
              "      fill: #174EA6;\n",
              "    }\n",
              "\n",
              "    [theme=dark] .colab-df-convert {\n",
              "      background-color: #3B4455;\n",
              "      fill: #D2E3FC;\n",
              "    }\n",
              "\n",
              "    [theme=dark] .colab-df-convert:hover {\n",
              "      background-color: #434B5C;\n",
              "      box-shadow: 0px 1px 3px 1px rgba(0, 0, 0, 0.15);\n",
              "      filter: drop-shadow(0px 1px 2px rgba(0, 0, 0, 0.3));\n",
              "      fill: #FFFFFF;\n",
              "    }\n",
              "  </style>\n",
              "\n",
              "      <script>\n",
              "        const buttonEl =\n",
              "          document.querySelector('#df-9f0ce2c0-b101-45b2-837a-8f50890181f2 button.colab-df-convert');\n",
              "        buttonEl.style.display =\n",
              "          google.colab.kernel.accessAllowed ? 'block' : 'none';\n",
              "\n",
              "        async function convertToInteractive(key) {\n",
              "          const element = document.querySelector('#df-9f0ce2c0-b101-45b2-837a-8f50890181f2');\n",
              "          const dataTable =\n",
              "            await google.colab.kernel.invokeFunction('convertToInteractive',\n",
              "                                                     [key], {});\n",
              "          if (!dataTable) return;\n",
              "\n",
              "          const docLinkHtml = 'Like what you see? Visit the ' +\n",
              "            '<a target=\"_blank\" href=https://colab.research.google.com/notebooks/data_table.ipynb>data table notebook</a>'\n",
              "            + ' to learn more about interactive tables.';\n",
              "          element.innerHTML = '';\n",
              "          dataTable['output_type'] = 'display_data';\n",
              "          await google.colab.output.renderOutput(dataTable, element);\n",
              "          const docLink = document.createElement('div');\n",
              "          docLink.innerHTML = docLinkHtml;\n",
              "          element.appendChild(docLink);\n",
              "        }\n",
              "      </script>\n",
              "    </div>\n",
              "  </div>\n",
              "  "
            ],
            "text/plain": [
              "                                 Models    Price     ROM\n",
              "0               APPLE iPhone SE (Black)  ₹30,099   64 GB\n",
              "1               APPLE iPhone SE (White)  ₹30,099   64 GB\n",
              "2               APPLE iPhone SE (Black)  ₹35,099  128 GB\n",
              "3          APPLE iPhone 12 Mini (Black)  ₹49,999   64 GB\n",
              "4                 APPLE iPhone SE (Red)  ₹30,099   64 GB\n",
              "5               APPLE iPhone SE (White)  ₹35,099  128 GB\n",
              "6                 APPLE iPhone SE (Red)  ₹35,099  128 GB\n",
              "7               APPLE iPhone 12 (Black)  ₹60,299   64 GB\n",
              "8          APPLE iPhone 12 Mini (White)  ₹49,999   64 GB\n",
              "9           APPLE iPhone 12 Mini (Blue)  ₹49,999   64 GB\n",
              "10               APPLE iPhone 12 (Blue)  ₹64,999  128 GB\n",
              "11       Apple iPhone XR ((PRODUCT)RED)  ₹39,999   64 GB\n",
              "12         APPLE iPhone 12 Mini (Green)  ₹49,999   64 GB\n",
              "13               APPLE iPhone 13 (Pink)  ₹74,900  128 GB\n",
              "14          APPLE iPhone 13 (Starlight)  ₹74,900  128 GB\n",
              "15           APPLE iPhone 13 (Midnight)  ₹74,900  128 GB\n",
              "16              APPLE iPhone 11 (Green)  ₹49,900   64 GB\n",
              "17               APPLE iPhone 13 (Blue)  ₹74,900  128 GB\n",
              "18       APPLE iPhone 13 ((PRODUCT)RED)  ₹84,900  256 GB\n",
              "19              APPLE iPhone 11 (Black)  ₹49,900   64 GB\n",
              "20       APPLE iPhone XR ((PRODUCT)RED)  ₹39,999   64 GB\n",
              "21  APPLE iPhone 13 Mini ((PRODUCT)RED)  ₹69,900  128 GB\n",
              "22          APPLE iPhone 13 Mini (Pink)  ₹69,900  128 GB\n",
              "23               APPLE iPhone 13 (Blue)  ₹84,900  256 GB"
            ]
          },
          "metadata": {},
          "execution_count": 51
        }
      ]
    },
    {
      "cell_type": "markdown",
      "source": [
        "### Extract URL"
      ],
      "metadata": {
        "id": "Jq9Q9JGrTRDV"
      }
    },
    {
      "cell_type": "code",
      "source": [
        "mobile.a"
      ],
      "metadata": {
        "id": "gXy6ecbNTHdr"
      },
      "execution_count": null,
      "outputs": []
    },
    {
      "cell_type": "code",
      "source": [
        "url = mobile.a[\"href\"]"
      ],
      "metadata": {
        "id": "aSGQy22xTjqn"
      },
      "execution_count": null,
      "outputs": []
    },
    {
      "cell_type": "code",
      "source": [
        "url"
      ],
      "metadata": {
        "id": "_SFVnwM5TqXs"
      },
      "execution_count": null,
      "outputs": []
    },
    {
      "cell_type": "code",
      "source": [
        "url = url.split(\"?\")[0]\n",
        "url"
      ],
      "metadata": {
        "id": "UT2f48IyTshO"
      },
      "execution_count": null,
      "outputs": []
    },
    {
      "cell_type": "code",
      "source": [
        "url = \"https://www.flipkart.com/\" + url"
      ],
      "metadata": {
        "id": "lIhOuOiEUh_I"
      },
      "execution_count": null,
      "outputs": []
    },
    {
      "cell_type": "code",
      "source": [
        "url"
      ],
      "metadata": {
        "id": "C5Kz0gBrUzjP"
      },
      "execution_count": null,
      "outputs": []
    },
    {
      "cell_type": "code",
      "source": [
        ""
      ],
      "metadata": {
        "id": "1d7xFDZDU0nU"
      },
      "execution_count": null,
      "outputs": []
    }
  ]
}